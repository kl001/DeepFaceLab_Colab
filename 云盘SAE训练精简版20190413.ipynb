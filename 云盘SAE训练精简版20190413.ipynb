{
  "nbformat": 4,
  "nbformat_minor": 0,
  "metadata": {
    "colab": {
      "name": "云盘训练精简版.ipynb",
      "version": "0.3.2",
      "provenance": [],
      "collapsed_sections": [],
      "include_colab_link": true
    },
    "kernelspec": {
      "name": "python2",
      "display_name": "Python 2"
    }
  },
  "cells": [
    {
      "cell_type": "markdown",
      "metadata": {
        "id": "view-in-github",
        "colab_type": "text"
      },
      "source": [
        "<a href=\"https://colab.research.google.com/github/kl001/DeepFaceLab_Colab/blob/master/%E4%BA%91%E7%9B%98SAE%E8%AE%AD%E7%BB%83%E7%B2%BE%E7%AE%80%E7%89%8820190413.ipynb\" target=\"_parent\"><img src=\"https://colab.research.google.com/assets/colab-badge.svg\" alt=\"Open In Colab\"/></a>"
      ]
    },
    {
      "metadata": {
        "id": "ldpC3PjRrYYh",
        "colab_type": "text"
      },
      "cell_type": "markdown",
      "source": [
        "# 第一步  在谷歌云盘建立工作区\n",
        "\n",
        "1.登录谷歌云，在根目录创建一个目录 ***DeepFaceLab*** ，大小写要同此处显示的一致，直接在此复制目录名过去。\n",
        "然后在DeepFaceLab中创建Workspace工作目录，在工作目录中创建data_src及data_dst两个目录，然后将已在本地提取和编辑完成的src及dsr切脸目录，分别传送到云盘对应目录中。完成这些准备工作后，执行以下代码：\n",
        "\n",
        "\n",
        "\n",
        "\n"
      ]
    },
    {
      "metadata": {
        "id": "D7toZxhT4J9W",
        "colab_type": "code",
        "cellView": "both",
        "colab": {}
      },
      "cell_type": "code",
      "source": [
        "#挂载谷歌云盘\n",
        "#点击链接授权，复制授权码，填入框框。\n",
        "\n",
        "from google.colab import drive\n",
        "\n",
        "drive.mount('/content/drive', force_remount=True)"
      ],
      "execution_count": 0,
      "outputs": []
    },
    {
      "metadata": {
        "id": "yA4nziLPtAf9",
        "colab_type": "text"
      },
      "cell_type": "markdown",
      "source": [
        "#第二步 安装DeepFaceLab，这个步骤在谷歌虚拟机每次重置后，都要运行，\n",
        "# 否则无法继续训练。\n"
      ]
    },
    {
      "metadata": {
        "id": "4CbWbLzHzqTQ",
        "colab_type": "code",
        "outputId": "e550627d-45a9-4747-cb51-e37fa90829fb",
        "colab": {
          "base_uri": "https://localhost:8080/",
          "height": 35
        }
      },
      "cell_type": "code",
      "source": [
        "# 获取DFL源代码v1.0\n",
        "\n",
        "!git clone -b v1.0 https://github.com/dream80/DeepFaceLab_Colab.git\n",
        "\n",
        "#!git clone https://github.com/dream80/DeepFaceLab_Colab.git"
      ],
      "execution_count": 0,
      "outputs": [
        {
          "output_type": "stream",
          "text": [
            "fatal: destination path 'DeepFaceLab_Colab' already exists and is not an empty directory.\n"
          ],
          "name": "stdout"
        }
      ]
    },
    {
      "metadata": {
        "id": "5MzbdSPEzsF6",
        "colab_type": "code",
        "outputId": "19e60df9-0037-4a5d-c3c4-d40b0b00eeb5",
        "colab": {
          "base_uri": "https://localhost:8080/",
          "height": 35
        }
      },
      "cell_type": "code",
      "source": [
        "# 进入DeepFaceLab_Colab目录\n",
        "%cd /content/drive/My Drive/DeepFaceLab/DeepFaceLab_Colab\n",
        "\n",
        "#获取最新源代码\n",
        "#!git pull\n"
      ],
      "execution_count": 0,
      "outputs": [
        {
          "output_type": "stream",
          "text": [
            "/content/drive/My Drive/DeepFaceLab/DeepFaceLab_Colab\n"
          ],
          "name": "stdout"
        }
      ]
    },
    {
      "metadata": {
        "id": "yd11UhiUvUfP",
        "colab_type": "code",
        "cellView": "both",
        "colab": {}
      },
      "cell_type": "code",
      "source": [
        "# 安装Python依赖\n",
        "!pip install -r requirements_colab.txt\n",
        "!pip install --upgrade scikit-image"
      ],
      "execution_count": 0,
      "outputs": []
    },
    {
      "metadata": {
        "id": "QxO1kNO_uRTF",
        "colab_type": "text"
      },
      "cell_type": "markdown",
      "source": [
        "# 第三步. 训练模型\n",
        "\n",
        "*在建模时要选择将保留预览图片功能\n",
        "*  支持H128,SAE等模型\n",
        "*  不想训练了可以点击停止，停止时会抛出异常，但是没什么关系。下次可以继续训练\n",
        "*  如果想要查看history ，直接进入云盘DFL工作目录，model下面有预览历史图片"
      ]
    },
    {
      "metadata": {
        "id": "NtKu0thn5O1l",
        "colab_type": "code",
        "colab": {}
      },
      "cell_type": "code",
      "source": [
        "# 确保路径正确，进入DeepFaceLab_Colab\n",
        "\n",
        "%cd /content/drive/My Drive/DeepFaceLab/DeepFaceLab_Colab"
      ],
      "execution_count": 0,
      "outputs": []
    },
    {
      "metadata": {
        "id": "JOxI3qTaxr4x",
        "colab_type": "code",
        "cellView": "both",
        "colab": {}
      },
      "cell_type": "code",
      "source": [
        "# Running trainer  H128\n",
        "\n",
        "!python main.py train --training-data-src-dir ../workspace/data_src/aligned --training-data-dst-dir ../workspace/data_dst/aligned --model-dir ../workspace/model --model H128 --no-preview"
      ],
      "execution_count": 0,
      "outputs": []
    },
    {
      "metadata": {
        "id": "NvP37RbjsN8V",
        "colab_type": "code",
        "colab": {}
      },
      "cell_type": "code",
      "source": [
        "# Running trainer. SAE \n",
        "\n",
        "!python main.py train --training-data-src-dir ../workspace/data_src/aligned --training-data-dst-dir ../workspace/data_dst/aligned --model-dir ../workspace/model --model SAE --no-preview"
      ],
      "execution_count": 0,
      "outputs": []
    },
    {
      "metadata": {
        "id": "KkbsIk4d68fW",
        "colab_type": "text"
      },
      "cell_type": "markdown",
      "source": [
        "# 第四步，合成用来换脸的图片，此图片放在 workspace/data_dst/merged目录中，最好下载回本地对应目录，自己合成影片，\n",
        "# 或者在线用原作者的代码合成，但若需要尝试不同合成方式，需自己增加代码，同时如果在合成过程中，虚拟机重置，则会影响最终的结果。"
      ]
    },
    {
      "metadata": {
        "id": "_AFqoSXd7uwF",
        "colab_type": "code",
        "colab": {}
      },
      "cell_type": "code",
      "source": [
        "第四步. 转换输出\n",
        "[ ]\n",
        "#用src中的脸替换dst的脸 \n",
        "!python main.py convert --input-dir ../workspace/data_dst --output-dir ../workspace/data_dst/merged --aligned-dir ../workspace/data_dst/aligned --model-dir ../workspace/model --model SAE"
      ],
      "execution_count": 0,
      "outputs": []
    },
    {
      "metadata": {
        "id": "G-yS9mfr8Mn0",
        "colab_type": "text"
      },
      "cell_type": "markdown",
      "source": [
        "# 第六步，转换影片\n"
      ]
    },
    {
      "metadata": {
        "id": "RxfJ3H1o8TKm",
        "colab_type": "code",
        "colab": {}
      },
      "cell_type": "code",
      "source": [
        "#把替换好的图片转换成视频\n",
        "\n",
        "!python main.py videoed video-from-sequence --input-dir ../workspace/data_dst/merged --output-file ../workspace/result.mp4 --reference-file ../workspace/data_dst.mp4"
      ],
      "execution_count": 0,
      "outputs": []
    }
  ]
}